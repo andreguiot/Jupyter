{
 "cells": [
  {
   "cell_type": "code",
   "execution_count": 6,
   "id": "007ddd5d-d7e7-4e4b-9886-47ae50a69ee7",
   "metadata": {},
   "outputs": [
    {
     "name": "stdout",
     "output_type": "stream",
     "text": [
      "Vermelho\n",
      "Vermelho\n",
      "Vermelho\n",
      "Verde\n"
     ]
    }
   ],
   "source": [
    "import time\n",
    "contador = 0 \n",
    "while contador < 5:\n",
    "    print('Vermelho')\n",
    "    contador += 1\n",
    "    if contador == 3:\n",
    "        break\n",
    "    time.sleep(1)\n",
    "print('Verde')"
   ]
  },
  {
   "cell_type": "code",
   "execution_count": 55,
   "id": "9a6327e7-d8e2-4221-ac15-5b04dd262291",
   "metadata": {},
   "outputs": [
    {
     "name": "stdin",
     "output_type": "stream",
     "text": [
      "Informe um valor :  5\n"
     ]
    },
    {
     "name": "stdout",
     "output_type": "stream",
     "text": [
      "5! = 5 x 4 x 3 x 2 x 1 = 120\n"
     ]
    }
   ],
   "source": [
    "numero = int(input('Informe um valor : '))\n",
    "fatorial = numero \n",
    "contador = 1\n",
    "aux = 1\n",
    "while (numero - contador) > 1:\n",
    "    fatorial = fatorial * (numero - contador)\n",
    "    contador += 1\n",
    "print(f'{numero}! =', numero, end = ' ')\n",
    "while (numero - aux) >= 1:\n",
    "    x = numero - aux\n",
    "    print('x', x , end = ' ')\n",
    "    aux += 1\n",
    "print(f'= {fatorial}')\n",
    "    "
   ]
  },
  {
   "cell_type": "code",
   "execution_count": 57,
   "id": "8a63ae85-79f4-4e49-a83e-3e894e30dfd3",
   "metadata": {},
   "outputs": [
    {
     "data": {
      "text/plain": [
       "120"
      ]
     },
     "execution_count": 57,
     "metadata": {},
     "output_type": "execute_result"
    }
   ],
   "source": [
    "import math\n",
    "math.factorial(5)"
   ]
  }
 ],
 "metadata": {
  "kernelspec": {
   "display_name": "Python 3 (ipykernel)",
   "language": "python",
   "name": "python3"
  },
  "language_info": {
   "codemirror_mode": {
    "name": "ipython",
    "version": 3
   },
   "file_extension": ".py",
   "mimetype": "text/x-python",
   "name": "python",
   "nbconvert_exporter": "python",
   "pygments_lexer": "ipython3",
   "version": "3.12.4"
  }
 },
 "nbformat": 4,
 "nbformat_minor": 5
}
