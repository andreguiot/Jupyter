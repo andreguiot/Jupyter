{
 "cells": [
  {
   "cell_type": "code",
   "execution_count": 1,
   "id": "8fcb003a-2fe0-4e36-b76b-0fab6da710c9",
   "metadata": {},
   "outputs": [
    {
     "data": {
      "text/plain": [
       "10"
      ]
     },
     "execution_count": 1,
     "metadata": {},
     "output_type": "execute_result"
    }
   ],
   "source": [
    "def multiplicacao(x, y):\n",
    "    mult = x*y\n",
    "    return mult\n",
    "multiplicacao(2, 5)"
   ]
  },
  {
   "cell_type": "code",
   "execution_count": 2,
   "id": "90e407f2-ca66-4f92-aa7d-424f632779ae",
   "metadata": {},
   "outputs": [
    {
     "data": {
      "text/plain": [
       "10"
      ]
     },
     "execution_count": 2,
     "metadata": {},
     "output_type": "execute_result"
    }
   ],
   "source": [
    "multiplicacao02 = lambda x, y: x*y\n",
    "multiplicacao(2, 5)"
   ]
  },
  {
   "cell_type": "code",
   "execution_count": 3,
   "id": "6571cc1f-ae7f-4b9a-98bc-a9674affe710",
   "metadata": {},
   "outputs": [
    {
     "data": {
      "text/plain": [
       "15"
      ]
     },
     "execution_count": 3,
     "metadata": {},
     "output_type": "execute_result"
    }
   ],
   "source": [
    "num10 = lambda a: a*3\n",
    "num10(5)"
   ]
  },
  {
   "cell_type": "code",
   "execution_count": 7,
   "id": "ee95a9cd-d1dc-45f4-ae91-e022a4ffd1ba",
   "metadata": {},
   "outputs": [
    {
     "name": "stdout",
     "output_type": "stream",
     "text": [
      "[25.4, 50.8, 76.19999999999999, 101.6, 127.0, 152.39999999999998, 177.79999999999998, 203.2]\n"
     ]
    }
   ],
   "source": [
    "polegadas = [1, 2, 3, 4, 5, 6, 7, 8]\n",
    "\n",
    "mm = list(map(lambda x: x*25.4, polegadas))\n",
    "print(f'{mm}')"
   ]
  },
  {
   "cell_type": "code",
   "execution_count": 8,
   "id": "b817c73e-00ca-4e7a-8726-02377c99299f",
   "metadata": {},
   "outputs": [
    {
     "name": "stdout",
     "output_type": "stream",
     "text": [
      "[25.4, 50.8, 76.19999999999999, 101.6, 127.0, 152.39999999999998, 177.79999999999998, 203.2]\n"
     ]
    }
   ],
   "source": [
    "mm3 = [x*25.4 for x in polegadas]\n",
    "print(mm3)"
   ]
  },
  {
   "cell_type": "code",
   "execution_count": 14,
   "id": "5363a7f1-0246-4029-a7ae-c20d3c57c4ed",
   "metadata": {},
   "outputs": [
    {
     "name": "stdout",
     "output_type": "stream",
     "text": [
      "['P', 'y', 't', 'h', 'o', 'n']\n"
     ]
    }
   ],
   "source": [
    "curso = [i for i in 'Python']\n",
    "print(curso)"
   ]
  }
 ],
 "metadata": {
  "kernelspec": {
   "display_name": "Python 3 (ipykernel)",
   "language": "python",
   "name": "python3"
  },
  "language_info": {
   "codemirror_mode": {
    "name": "ipython",
    "version": 3
   },
   "file_extension": ".py",
   "mimetype": "text/x-python",
   "name": "python",
   "nbconvert_exporter": "python",
   "pygments_lexer": "ipython3",
   "version": "3.12.4"
  }
 },
 "nbformat": 4,
 "nbformat_minor": 5
}
