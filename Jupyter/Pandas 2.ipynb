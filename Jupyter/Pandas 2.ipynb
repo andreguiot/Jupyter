{
 "cells": [
  {
   "cell_type": "code",
   "execution_count": 23,
   "id": "a9d8eddd-a12b-4eb8-a99a-3d0b249f58e4",
   "metadata": {},
   "outputs": [],
   "source": [
    "import pandas as pd\n",
    "notas = {'Alunos':['Bruno', 'João', 'Ana', 'José'], \n",
    "        'Notas':['10', '7', '10', '4'],\n",
    "        'Situação':['Aprovado', 'Aprovado', 'Aprovado', 'Reprovado']}"
   ]
  },
  {
   "cell_type": "code",
   "execution_count": 24,
   "id": "cc8f0a6a-88d2-4654-8fc6-22c184c1811d",
   "metadata": {},
   "outputs": [],
   "source": [
    "tabela = pd.DataFrame(notas)"
   ]
  },
  {
   "cell_type": "code",
   "execution_count": 25,
   "id": "bf3bc727-49f7-43bf-8f9c-6ac318941d74",
   "metadata": {},
   "outputs": [
    {
     "name": "stdout",
     "output_type": "stream",
     "text": [
      "  Alunos Notas   Situação\n",
      "0  Bruno    10   Aprovado\n",
      "1   João     7   Aprovado\n",
      "2    Ana    10   Aprovado\n",
      "3   José     4  Reprovado\n"
     ]
    }
   ],
   "source": [
    "print(tabela)"
   ]
  },
  {
   "cell_type": "code",
   "execution_count": 26,
   "id": "19d6889d-315e-4a88-8ebc-c974bd2cbe6d",
   "metadata": {},
   "outputs": [
    {
     "name": "stdout",
     "output_type": "stream",
     "text": [
      "[1 3 5 7]\n"
     ]
    }
   ],
   "source": [
    "import numpy as np\n",
    "impares = np.array([1, 3, 5, 7])\n",
    "print(impares)"
   ]
  },
  {
   "cell_type": "code",
   "execution_count": 27,
   "id": "0f50db2f-933a-4e8f-8da0-4a083fe82154",
   "metadata": {},
   "outputs": [
    {
     "name": "stdout",
     "output_type": "stream",
     "text": [
      "0    1\n",
      "1    3\n",
      "2    5\n",
      "3    7\n",
      "dtype: int32\n"
     ]
    }
   ],
   "source": [
    "sequencia = pd.Series(impares)\n",
    "print(sequencia)"
   ]
  }
 ],
 "metadata": {
  "kernelspec": {
   "display_name": "Python 3 (ipykernel)",
   "language": "python",
   "name": "python3"
  },
  "language_info": {
   "codemirror_mode": {
    "name": "ipython",
    "version": 3
   },
   "file_extension": ".py",
   "mimetype": "text/x-python",
   "name": "python",
   "nbconvert_exporter": "python",
   "pygments_lexer": "ipython3",
   "version": "3.12.4"
  }
 },
 "nbformat": 4,
 "nbformat_minor": 5
}
